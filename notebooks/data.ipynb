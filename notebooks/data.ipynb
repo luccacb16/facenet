{
 "cells": [
  {
   "cell_type": "markdown",
   "metadata": {},
   "source": [
    "# **Download do Dataset**"
   ]
  },
  {
   "cell_type": "code",
   "execution_count": 2,
   "metadata": {},
   "outputs": [
    {
     "name": "stdout",
     "output_type": "stream",
     "text": [
      "Dataset URL: https://www.kaggle.com/datasets/jessicali9530/lfw-dataset\n",
      "License(s): other\n",
      "Downloading lfw-dataset.zip to ../data\n",
      "... resuming from 8388608 bytes (109507047 bytes left) ...\n",
      "100%|███████████████████████████████████████▊| 112M/112M [00:21<00:00, 4.40MB/s]\n",
      "100%|████████████████████████████████████████| 112M/112M [00:21<00:00, 5.18MB/s]\n"
     ]
    }
   ],
   "source": [
    "!kaggle datasets download -d jessicali9530/lfw-dataset -p ../data/"
   ]
  },
  {
   "cell_type": "code",
   "execution_count": 3,
   "metadata": {},
   "outputs": [],
   "source": [
    "!unzip -q ../data/lfw-dataset.zip -d ../data/"
   ]
  },
  {
   "cell_type": "code",
   "execution_count": 4,
   "metadata": {},
   "outputs": [],
   "source": [
    "!rm ../data/lfw-dataset.zip\n",
    "!rm ../data/*.csv"
   ]
  },
  {
   "cell_type": "markdown",
   "metadata": {},
   "source": [
    "# **Detecção das faces**"
   ]
  },
  {
   "cell_type": "code",
   "execution_count": 5,
   "metadata": {},
   "outputs": [
    {
     "name": "stdout",
     "output_type": "stream",
     "text": [
      "Device name: NVIDIA GeForce RTX 3050 Laptop GPU\n"
     ]
    }
   ],
   "source": [
    "from facenet_pytorch import MTCNN, extract_face\n",
    "import torch\n",
    "from PIL import Image\n",
    "import os\n",
    "from tqdm.notebook import tqdm as tqdm\n",
    "import pandas as pd\n",
    "import numpy as np\n",
    "\n",
    "device = torch.device('cuda' if torch.cuda.is_available() else 'cpu')\n",
    "print(f'Device name: {torch.cuda.get_device_name(0)}')\n",
    "\n",
    "RAW_LFW_PATH = '../data/lfw-deepfunneled/lfw-deepfunneled/'\n",
    "FACES_PATH = '../data/lfw-faces/'"
   ]
  },
  {
   "cell_type": "code",
   "execution_count": 6,
   "metadata": {},
   "outputs": [],
   "source": [
    "mtcnn = MTCNN(keep_all=True, device=device)"
   ]
  },
  {
   "cell_type": "code",
   "execution_count": 7,
   "metadata": {},
   "outputs": [],
   "source": [
    "def extract_faces(raw_images_path: str, faces_images_path: str) -> pd.DataFrame:\n",
    "    if not os.path.exists(faces_images_path):\n",
    "        os.makedirs(faces_images_path)\n",
    "        \n",
    "    subfolders = os.listdir(raw_images_path)\n",
    "    \n",
    "    nobox = []\n",
    "    df = []\n",
    "    \n",
    "    for id, folder in enumerate(tqdm(subfolders, desc='Extraindo rostos', unit='img')):\n",
    "        imgs = os.listdir(f'{raw_images_path}/{folder}')\n",
    "        \n",
    "        for file in imgs:\n",
    "            save_path = os.path.join(faces_images_path, file.split('/')[-1])\n",
    "            save_path_df = os.path.join('./data/lfw-faces/', file.split('/')[-1])\n",
    "            df.append((id, save_path_df))\n",
    "            \n",
    "            img = Image.open(os.path.join(raw_images_path + folder, file))\n",
    "        \n",
    "            boxes, _ = mtcnn.detect(img)\n",
    "            \n",
    "            if boxes is not None:\n",
    "                extract_face(img, boxes[0], save_path=save_path)\n",
    "            else:\n",
    "                nobox.append(save_path_df)\n",
    "                \n",
    "    df = pd.DataFrame(df, columns=['id', 'path'])\n",
    "    \n",
    "    return nobox, df"
   ]
  },
  {
   "cell_type": "code",
   "execution_count": 8,
   "metadata": {},
   "outputs": [
    {
     "data": {
      "application/vnd.jupyter.widget-view+json": {
       "model_id": "5899218a1d884714928240450826e99c",
       "version_major": 2,
       "version_minor": 0
      },
      "text/plain": [
       "Extraindo rostos:   0%|          | 0/5749 [00:00<?, ?img/s]"
      ]
     },
     "metadata": {},
     "output_type": "display_data"
    },
    {
     "name": "stdout",
     "output_type": "stream",
     "text": [
      "Número de imagens sem face detectada: 1\n",
      "Número de imagens com face detectada: 13233\n",
      "Número de identidades: 5749\n"
     ]
    }
   ],
   "source": [
    "nobox, df = extract_faces(RAW_LFW_PATH, FACES_PATH)\n",
    "\n",
    "print(f'Número de imagens sem face detectada: {len(nobox)}')\n",
    "print(f'Número de imagens com face detectada: {len(df)}')\n",
    "print(f'Número de identidades: {df[\"id\"].nunique()}')\n",
    "\n",
    "# Removendo imagens sem face detectada do df\n",
    "df = df[~df['path'].isin(nobox)]\n",
    "\n",
    "# Salvando o csv\n",
    "df.to_csv('../data/lfw_faces.csv', index=False)"
   ]
  },
  {
   "cell_type": "code",
   "execution_count": 9,
   "metadata": {},
   "outputs": [
    {
     "data": {
      "text/html": [
       "<div>\n",
       "<style scoped>\n",
       "    .dataframe tbody tr th:only-of-type {\n",
       "        vertical-align: middle;\n",
       "    }\n",
       "\n",
       "    .dataframe tbody tr th {\n",
       "        vertical-align: top;\n",
       "    }\n",
       "\n",
       "    .dataframe thead th {\n",
       "        text-align: right;\n",
       "    }\n",
       "</style>\n",
       "<table border=\"1\" class=\"dataframe\">\n",
       "  <thead>\n",
       "    <tr style=\"text-align: right;\">\n",
       "      <th></th>\n",
       "      <th>id</th>\n",
       "      <th>path</th>\n",
       "    </tr>\n",
       "  </thead>\n",
       "  <tbody>\n",
       "    <tr>\n",
       "      <th>0</th>\n",
       "      <td>0</td>\n",
       "      <td>./data/lfw-faces/Koichiro_Matsuura_0001.jpg</td>\n",
       "    </tr>\n",
       "    <tr>\n",
       "      <th>1</th>\n",
       "      <td>1</td>\n",
       "      <td>./data/lfw-faces/Mark_Hanson_0001.jpg</td>\n",
       "    </tr>\n",
       "    <tr>\n",
       "      <th>2</th>\n",
       "      <td>2</td>\n",
       "      <td>./data/lfw-faces/Gregorio_Honasan_0001.jpg</td>\n",
       "    </tr>\n",
       "    <tr>\n",
       "      <th>3</th>\n",
       "      <td>3</td>\n",
       "      <td>./data/lfw-faces/Shanna_Zolman_0001.jpg</td>\n",
       "    </tr>\n",
       "    <tr>\n",
       "      <th>4</th>\n",
       "      <td>4</td>\n",
       "      <td>./data/lfw-faces/Edward_Seaga_0001.jpg</td>\n",
       "    </tr>\n",
       "  </tbody>\n",
       "</table>\n",
       "</div>"
      ],
      "text/plain": [
       "   id                                         path\n",
       "0   0  ./data/lfw-faces/Koichiro_Matsuura_0001.jpg\n",
       "1   1        ./data/lfw-faces/Mark_Hanson_0001.jpg\n",
       "2   2   ./data/lfw-faces/Gregorio_Honasan_0001.jpg\n",
       "3   3      ./data/lfw-faces/Shanna_Zolman_0001.jpg\n",
       "4   4       ./data/lfw-faces/Edward_Seaga_0001.jpg"
      ]
     },
     "execution_count": 9,
     "metadata": {},
     "output_type": "execute_result"
    }
   ],
   "source": [
    "df.head()"
   ]
  },
  {
   "cell_type": "markdown",
   "metadata": {},
   "source": [
    "# **Split de treino e teste**"
   ]
  },
  {
   "cell_type": "code",
   "execution_count": 10,
   "metadata": {},
   "outputs": [],
   "source": [
    "!rm -rf ../data/lfw-deepfunneled/"
   ]
  },
  {
   "cell_type": "code",
   "execution_count": 11,
   "metadata": {},
   "outputs": [
    {
     "name": "stdout",
     "output_type": "stream",
     "text": [
      "Identidades no conjunto de teste: 49\n",
      "Imagens no conjunto de teste: 567\n",
      "\n",
      "Identidades no conjunto de treino: 5700\n",
      "Imagens no conjunto de treino: 12665\n"
     ]
    }
   ],
   "source": [
    "ids_count = df['id'].value_counts()\n",
    "valid_ids = ids_count[ids_count >= 5].index\n",
    "\n",
    "shuffled_ids = valid_ids.to_numpy()\n",
    "np.random.seed(42)\n",
    "np.random.shuffle(shuffled_ids)\n",
    "\n",
    "test_ids = shuffled_ids[:49]\n",
    "\n",
    "# Criar os dataframes de treino e teste\n",
    "test_df = df[df['id'].isin(test_ids)]\n",
    "train_df = df[~df['id'].isin(test_ids)]\n",
    "\n",
    "print(f\"Identidades no conjunto de teste: {test_df['id'].nunique()}\")\n",
    "print(f\"Imagens no conjunto de teste: {len(test_df)}\\n\")\n",
    "\n",
    "print(f\"Identidades no conjunto de treino: {train_df['id'].nunique()}\")\n",
    "print(f\"Imagens no conjunto de treino: {len(train_df)}\")"
   ]
  },
  {
   "cell_type": "code",
   "execution_count": 12,
   "metadata": {},
   "outputs": [],
   "source": [
    "train_df.to_csv('../data/lfw_train.csv', index=False)\n",
    "test_df.to_csv('../data/lfw_test.csv', index=False)"
   ]
  }
 ],
 "metadata": {
  "kernelspec": {
   "display_name": "Python 3",
   "language": "python",
   "name": "python3"
  },
  "language_info": {
   "codemirror_mode": {
    "name": "ipython",
    "version": 3
   },
   "file_extension": ".py",
   "mimetype": "text/x-python",
   "name": "python",
   "nbconvert_exporter": "python",
   "pygments_lexer": "ipython3",
   "version": "3.10.12"
  }
 },
 "nbformat": 4,
 "nbformat_minor": 2
}
