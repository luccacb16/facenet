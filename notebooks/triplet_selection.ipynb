{
 "cells": [
  {
   "cell_type": "code",
   "execution_count": 10,
   "metadata": {},
   "outputs": [
    {
     "data": {
      "text/plain": [
       "device(type='cuda')"
      ]
     },
     "execution_count": 10,
     "metadata": {},
     "output_type": "execute_result"
    }
   ],
   "source": [
    "import pandas as pd\n",
    "import numpy as np\n",
    "import torch\n",
    "from tqdm.notebook import tqdm as tqdm\n",
    "import torch\n",
    "\n",
    "device = torch.device(\"cuda\" if torch.cuda.is_available() else \"cpu\")\n",
    "device"
   ]
  },
  {
   "cell_type": "code",
   "execution_count": 11,
   "metadata": {},
   "outputs": [],
   "source": [
    "def offline_triplet_selection(embeddings_df, minibatch=1800, margin=0.2, max_triplets=None):\n",
    "    triplets = []\n",
    "\n",
    "    # Reordena aleatoriamente e extrai os embeddings diretamente\n",
    "    embeddings_df = embeddings_df.sample(frac=1).reset_index(drop=True)\n",
    "\n",
    "    # Corrige a extração de embeddings para lidar com arrays aninhados\n",
    "    embeddings = np.stack(embeddings_df['embedding'].apply(lambda x: np.array(x[0], dtype=np.float32)).values)\n",
    "    embeddings = torch.tensor(embeddings, dtype=torch.float32)\n",
    "\n",
    "    ids = embeddings_df['id'].to_numpy()\n",
    "    \n",
    "    for i in tqdm(range(0, len(embeddings_df), minibatch), desc=\"Minibatches\"):\n",
    "        if max_triplets is not None and len(triplets) >= max_triplets:\n",
    "            break  # Interrompe o processo se o número máximo de triplets for atingido\n",
    "\n",
    "        batch_indices = list(range(i, min(i + minibatch, len(embeddings_df))))\n",
    "        batch_embeddings = embeddings[batch_indices]\n",
    "        batch_ids = ids[batch_indices]\n",
    "\n",
    "        distances = torch.cdist(batch_embeddings, batch_embeddings, p=2)\n",
    "        \n",
    "        for anchor_idx in range(len(batch_indices)):\n",
    "            if max_triplets is not None and len(triplets) >= max_triplets:\n",
    "                break  # Interrompe o loop interno se o número máximo de triplets for atingido\n",
    "\n",
    "            anchor_id = batch_ids[anchor_idx]\n",
    "            positive_mask = batch_ids == anchor_id\n",
    "            \n",
    "            # Evita a própria âncora como positivo\n",
    "            positive_mask[anchor_idx] = False\n",
    "            positive_mask = torch.tensor(positive_mask)\n",
    "            \n",
    "            for positive_idx in torch.where(positive_mask)[0]:\n",
    "                d_ap = distances[anchor_idx, positive_idx]\n",
    "                \n",
    "                negative_mask = (distances[anchor_idx] > d_ap) & (distances[anchor_idx] < d_ap + margin) & (~positive_mask)\n",
    "                \n",
    "                for negative_idx in torch.where(negative_mask)[0]:\n",
    "                    dist = distances[anchor_idx, negative_idx].item() - d_ap.item()\n",
    "                    triplets.append((batch_indices[anchor_idx], batch_indices[positive_idx], batch_indices[negative_idx], dist))\n",
    "\n",
    "                    if max_triplets is not None and len(triplets) >= max_triplets:\n",
    "                        break  # Interrompe o loop mais interno se o número máximo de triplets for atingido\n",
    "                    \n",
    "    print(f\"Total de triplets: {len(triplets):,}\".replace(',', '.'))\n",
    "    \n",
    "    triplets_df = pd.DataFrame(triplets, columns=['anchor_idx', 'positive_idx', 'negative_idx', 'dist'])\n",
    "\n",
    "    # Mapeia os índices de volta para os caminhos das imagens usando apply e loc\n",
    "    triplets_df['anchor_path'] = triplets_df['anchor_idx'].apply(lambda x: embeddings_df['path'].loc[x])\n",
    "    triplets_df['positive_path'] = triplets_df['positive_idx'].apply(lambda x: embeddings_df['path'].loc[x])\n",
    "    triplets_df['negative_path'] = triplets_df['negative_idx'].apply(lambda x: embeddings_df['path'].loc[x])\n",
    "\n",
    "    triplets_img_paths_df = triplets_df[['anchor_path', 'positive_path', 'negative_path', 'dist']]\n",
    "    \n",
    "    return triplets_img_paths_df"
   ]
  },
  {
   "cell_type": "code",
   "execution_count": 12,
   "metadata": {},
   "outputs": [],
   "source": [
    "lfw_train_embeddings = pd.read_pickle('../data/lfw_train_embeddings.pkl')"
   ]
  },
  {
   "cell_type": "code",
   "execution_count": 13,
   "metadata": {},
   "outputs": [
    {
     "data": {
      "application/vnd.jupyter.widget-view+json": {
       "model_id": "c1e2727db6bd4c149e496046b10cc5c0",
       "version_major": 2,
       "version_minor": 0
      },
      "text/plain": [
       "Minibatches:   0%|          | 0/8 [00:00<?, ?it/s]"
      ]
     },
     "metadata": {},
     "output_type": "display_data"
    },
    {
     "name": "stdout",
     "output_type": "stream",
     "text": [
      "Total de triplets: 500.027\n"
     ]
    }
   ],
   "source": [
    "triplets_df = offline_triplet_selection(lfw_train_embeddings, minibatch=1800, margin=0.2, max_triplets=500_000)"
   ]
  },
  {
   "cell_type": "code",
   "execution_count": 14,
   "metadata": {},
   "outputs": [
    {
     "data": {
      "text/html": [
       "<div>\n",
       "<style scoped>\n",
       "    .dataframe tbody tr th:only-of-type {\n",
       "        vertical-align: middle;\n",
       "    }\n",
       "\n",
       "    .dataframe tbody tr th {\n",
       "        vertical-align: top;\n",
       "    }\n",
       "\n",
       "    .dataframe thead th {\n",
       "        text-align: right;\n",
       "    }\n",
       "</style>\n",
       "<table border=\"1\" class=\"dataframe\">\n",
       "  <thead>\n",
       "    <tr style=\"text-align: right;\">\n",
       "      <th></th>\n",
       "      <th>anchor_path</th>\n",
       "      <th>positive_path</th>\n",
       "      <th>negative_path</th>\n",
       "      <th>dist</th>\n",
       "    </tr>\n",
       "  </thead>\n",
       "  <tbody>\n",
       "    <tr>\n",
       "      <th>0</th>\n",
       "      <td>../data/lfw-faces/James_Blake_0004.jpg</td>\n",
       "      <td>../data/lfw-faces/James_Blake_0008.jpg</td>\n",
       "      <td>../data/lfw-faces/Andre_Agassi_0018.jpg</td>\n",
       "      <td>0.152120</td>\n",
       "    </tr>\n",
       "    <tr>\n",
       "      <th>1</th>\n",
       "      <td>../data/lfw-faces/James_Blake_0004.jpg</td>\n",
       "      <td>../data/lfw-faces/James_Blake_0008.jpg</td>\n",
       "      <td>../data/lfw-faces/Juan_Pablo_Montoya_0002.jpg</td>\n",
       "      <td>0.198927</td>\n",
       "    </tr>\n",
       "    <tr>\n",
       "      <th>2</th>\n",
       "      <td>../data/lfw-faces/James_Blake_0004.jpg</td>\n",
       "      <td>../data/lfw-faces/James_Blake_0008.jpg</td>\n",
       "      <td>../data/lfw-faces/Kurt_Warner_0004.jpg</td>\n",
       "      <td>0.109461</td>\n",
       "    </tr>\n",
       "    <tr>\n",
       "      <th>3</th>\n",
       "      <td>../data/lfw-faces/James_Blake_0004.jpg</td>\n",
       "      <td>../data/lfw-faces/James_Blake_0008.jpg</td>\n",
       "      <td>../data/lfw-faces/Roger_Federer_0001.jpg</td>\n",
       "      <td>0.152242</td>\n",
       "    </tr>\n",
       "    <tr>\n",
       "      <th>4</th>\n",
       "      <td>../data/lfw-faces/James_Blake_0004.jpg</td>\n",
       "      <td>../data/lfw-faces/James_Blake_0008.jpg</td>\n",
       "      <td>../data/lfw-faces/Alexandre_Daigle_0001.jpg</td>\n",
       "      <td>0.175565</td>\n",
       "    </tr>\n",
       "  </tbody>\n",
       "</table>\n",
       "</div>"
      ],
      "text/plain": [
       "                              anchor_path  \\\n",
       "0  ../data/lfw-faces/James_Blake_0004.jpg   \n",
       "1  ../data/lfw-faces/James_Blake_0004.jpg   \n",
       "2  ../data/lfw-faces/James_Blake_0004.jpg   \n",
       "3  ../data/lfw-faces/James_Blake_0004.jpg   \n",
       "4  ../data/lfw-faces/James_Blake_0004.jpg   \n",
       "\n",
       "                            positive_path  \\\n",
       "0  ../data/lfw-faces/James_Blake_0008.jpg   \n",
       "1  ../data/lfw-faces/James_Blake_0008.jpg   \n",
       "2  ../data/lfw-faces/James_Blake_0008.jpg   \n",
       "3  ../data/lfw-faces/James_Blake_0008.jpg   \n",
       "4  ../data/lfw-faces/James_Blake_0008.jpg   \n",
       "\n",
       "                                   negative_path      dist  \n",
       "0        ../data/lfw-faces/Andre_Agassi_0018.jpg  0.152120  \n",
       "1  ../data/lfw-faces/Juan_Pablo_Montoya_0002.jpg  0.198927  \n",
       "2         ../data/lfw-faces/Kurt_Warner_0004.jpg  0.109461  \n",
       "3       ../data/lfw-faces/Roger_Federer_0001.jpg  0.152242  \n",
       "4    ../data/lfw-faces/Alexandre_Daigle_0001.jpg  0.175565  "
      ]
     },
     "execution_count": 14,
     "metadata": {},
     "output_type": "execute_result"
    }
   ],
   "source": [
    "triplets_df.head()"
   ]
  },
  {
   "cell_type": "code",
   "execution_count": 15,
   "metadata": {},
   "outputs": [],
   "source": [
    "triplets_df = triplets_df.replace(to_replace='../data/lfw-faces/', value='', regex=True)"
   ]
  },
  {
   "cell_type": "code",
   "execution_count": 16,
   "metadata": {},
   "outputs": [
    {
     "data": {
      "text/html": [
       "<div>\n",
       "<style scoped>\n",
       "    .dataframe tbody tr th:only-of-type {\n",
       "        vertical-align: middle;\n",
       "    }\n",
       "\n",
       "    .dataframe tbody tr th {\n",
       "        vertical-align: top;\n",
       "    }\n",
       "\n",
       "    .dataframe thead th {\n",
       "        text-align: right;\n",
       "    }\n",
       "</style>\n",
       "<table border=\"1\" class=\"dataframe\">\n",
       "  <thead>\n",
       "    <tr style=\"text-align: right;\">\n",
       "      <th></th>\n",
       "      <th>anchor_path</th>\n",
       "      <th>positive_path</th>\n",
       "      <th>negative_path</th>\n",
       "      <th>dist</th>\n",
       "    </tr>\n",
       "  </thead>\n",
       "  <tbody>\n",
       "    <tr>\n",
       "      <th>0</th>\n",
       "      <td>James_Blake_0004.jpg</td>\n",
       "      <td>James_Blake_0008.jpg</td>\n",
       "      <td>Andre_Agassi_0018.jpg</td>\n",
       "      <td>0.152120</td>\n",
       "    </tr>\n",
       "    <tr>\n",
       "      <th>1</th>\n",
       "      <td>James_Blake_0004.jpg</td>\n",
       "      <td>James_Blake_0008.jpg</td>\n",
       "      <td>Juan_Pablo_Montoya_0002.jpg</td>\n",
       "      <td>0.198927</td>\n",
       "    </tr>\n",
       "    <tr>\n",
       "      <th>2</th>\n",
       "      <td>James_Blake_0004.jpg</td>\n",
       "      <td>James_Blake_0008.jpg</td>\n",
       "      <td>Kurt_Warner_0004.jpg</td>\n",
       "      <td>0.109461</td>\n",
       "    </tr>\n",
       "    <tr>\n",
       "      <th>3</th>\n",
       "      <td>James_Blake_0004.jpg</td>\n",
       "      <td>James_Blake_0008.jpg</td>\n",
       "      <td>Roger_Federer_0001.jpg</td>\n",
       "      <td>0.152242</td>\n",
       "    </tr>\n",
       "    <tr>\n",
       "      <th>4</th>\n",
       "      <td>James_Blake_0004.jpg</td>\n",
       "      <td>James_Blake_0008.jpg</td>\n",
       "      <td>Alexandre_Daigle_0001.jpg</td>\n",
       "      <td>0.175565</td>\n",
       "    </tr>\n",
       "  </tbody>\n",
       "</table>\n",
       "</div>"
      ],
      "text/plain": [
       "            anchor_path         positive_path                negative_path  \\\n",
       "0  James_Blake_0004.jpg  James_Blake_0008.jpg        Andre_Agassi_0018.jpg   \n",
       "1  James_Blake_0004.jpg  James_Blake_0008.jpg  Juan_Pablo_Montoya_0002.jpg   \n",
       "2  James_Blake_0004.jpg  James_Blake_0008.jpg         Kurt_Warner_0004.jpg   \n",
       "3  James_Blake_0004.jpg  James_Blake_0008.jpg       Roger_Federer_0001.jpg   \n",
       "4  James_Blake_0004.jpg  James_Blake_0008.jpg    Alexandre_Daigle_0001.jpg   \n",
       "\n",
       "       dist  \n",
       "0  0.152120  \n",
       "1  0.198927  \n",
       "2  0.109461  \n",
       "3  0.152242  \n",
       "4  0.175565  "
      ]
     },
     "execution_count": 16,
     "metadata": {},
     "output_type": "execute_result"
    }
   ],
   "source": [
    "triplets_df.head()"
   ]
  },
  {
   "cell_type": "code",
   "execution_count": 18,
   "metadata": {},
   "outputs": [
    {
     "data": {
      "text/plain": [
       "0.19999957084655762"
      ]
     },
     "execution_count": 18,
     "metadata": {},
     "output_type": "execute_result"
    }
   ],
   "source": [
    "# Escolher 200k amostras aleatórias\n",
    "triplets_df = triplets_df.sample(n=200_000, random_state=42)"
   ]
  },
  {
   "cell_type": "code",
   "execution_count": 20,
   "metadata": {},
   "outputs": [],
   "source": [
    "triplets_df.to_csv('../data/triplets_df.csv', index=False)"
   ]
  }
 ],
 "metadata": {
  "kernelspec": {
   "display_name": "facenet",
   "language": "python",
   "name": "python3"
  },
  "language_info": {
   "codemirror_mode": {
    "name": "ipython",
    "version": 3
   },
   "file_extension": ".py",
   "mimetype": "text/x-python",
   "name": "python",
   "nbconvert_exporter": "python",
   "pygments_lexer": "ipython3",
   "version": "3.10.12"
  }
 },
 "nbformat": 4,
 "nbformat_minor": 2
}
